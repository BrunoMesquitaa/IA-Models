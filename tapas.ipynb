{
 "cells": [
  {
   "cell_type": "code",
   "execution_count": 30,
   "metadata": {},
   "outputs": [
    {
     "name": "stderr",
     "output_type": "stream",
     "text": [
      "/home/bruno/.virtualenvs/ia_tests/lib/python3.10/site-packages/huggingface_hub/file_download.py:1132: FutureWarning: `resume_download` is deprecated and will be removed in version 1.0.0. Downloads always resume when possible. If you want to force a new download, use `force_download=True`.\n",
      "  warnings.warn(\n"
     ]
    }
   ],
   "source": [
    "import pandas as pd\n",
    "from transformers import (\n",
    "    AutoModelForSeq2SeqLM,\n",
    "    AutoModelForTableQuestionAnswering,\n",
    "    AutoTokenizer,\n",
    "    pipeline,\n",
    ")\n",
    "\n",
    "model_tapas = \"google/tapas-base-finetuned-wikisql-supervised\"\n",
    "tokenizer_tapas = AutoTokenizer.from_pretrained(model_tapas)\n",
    "model_tapas = AutoModelForTableQuestionAnswering.from_pretrained(model_tapas)\n",
    "pipe_tapas = pipeline(\n",
    "    \"table-question-answering\", model=model_tapas, tokenizer=tokenizer_tapas\n",
    ")\n",
    "\n",
    "\n",
    "table = pd.read_excel('/home/bruno/Downloads/Dataset - Dados para o desafio.xlsx')"
   ]
  },
  {
   "cell_type": "code",
   "execution_count": 31,
   "metadata": {},
   "outputs": [],
   "source": [
    "table.dropna(inplace=True)\n",
    "\n",
    "table = table.astype(str)"
   ]
  },
  {
   "cell_type": "code",
   "execution_count": 32,
   "metadata": {},
   "outputs": [],
   "source": [
    "table = table.head(100)"
   ]
  },
  {
   "cell_type": "code",
   "execution_count": 40,
   "metadata": {},
   "outputs": [
    {
     "data": {
      "text/plain": [
       "4.9335"
      ]
     },
     "execution_count": 40,
     "metadata": {},
     "output_type": "execute_result"
    }
   ],
   "source": [
    "table.loc[table['Sexo'] == 'Masculino', 'Renda'].astype(float).median()"
   ]
  },
  {
   "cell_type": "code",
   "execution_count": 36,
   "metadata": {},
   "outputs": [
    {
     "data": {
      "text/html": [
       "<div>\n",
       "<style scoped>\n",
       "    .dataframe tbody tr th:only-of-type {\n",
       "        vertical-align: middle;\n",
       "    }\n",
       "\n",
       "    .dataframe tbody tr th {\n",
       "        vertical-align: top;\n",
       "    }\n",
       "\n",
       "    .dataframe thead th {\n",
       "        text-align: right;\n",
       "    }\n",
       "</style>\n",
       "<table border=\"1\" class=\"dataframe\">\n",
       "  <thead>\n",
       "    <tr style=\"text-align: right;\">\n",
       "      <th></th>\n",
       "      <th>Tipo</th>\n",
       "      <th>Sexo</th>\n",
       "      <th>Opinião</th>\n",
       "      <th>Modelo</th>\n",
       "      <th>Outra</th>\n",
       "      <th>Razão</th>\n",
       "      <th>Renda</th>\n",
       "      <th>Anos</th>\n",
       "      <th>Gasto</th>\n",
       "      <th>Minutos</th>\n",
       "    </tr>\n",
       "  </thead>\n",
       "  <tbody>\n",
       "    <tr>\n",
       "      <th>0</th>\n",
       "      <td>Pós-pago</td>\n",
       "      <td>Masculino</td>\n",
       "      <td>Mediana</td>\n",
       "      <td>Gradiente</td>\n",
       "      <td>Nenhuma</td>\n",
       "      <td>Qualidade do sinal</td>\n",
       "      <td>1.074</td>\n",
       "      <td>3</td>\n",
       "      <td>39</td>\n",
       "      <td>69</td>\n",
       "    </tr>\n",
       "    <tr>\n",
       "      <th>1</th>\n",
       "      <td>Pré-pago</td>\n",
       "      <td>Feminino</td>\n",
       "      <td>Mediana</td>\n",
       "      <td>Ericsson</td>\n",
       "      <td>Cum</td>\n",
       "      <td>Ma</td>\n",
       "      <td>1.491</td>\n",
       "      <td>4</td>\n",
       "      <td>50.2</td>\n",
       "      <td>66</td>\n",
       "    </tr>\n",
       "    <tr>\n",
       "      <th>2</th>\n",
       "      <td>Pós-pago</td>\n",
       "      <td>Masculino</td>\n",
       "      <td>Sofrível</td>\n",
       "      <td>Gradiente</td>\n",
       "      <td>Nenhuma</td>\n",
       "      <td>Qualidade do sinal</td>\n",
       "      <td>2.778</td>\n",
       "      <td>7</td>\n",
       "      <td>80.8</td>\n",
       "      <td>68</td>\n",
       "    </tr>\n",
       "    <tr>\n",
       "      <th>3</th>\n",
       "      <td>Pré-pago</td>\n",
       "      <td>Feminino</td>\n",
       "      <td>Mediana</td>\n",
       "      <td>Ericsson</td>\n",
       "      <td>Nenhuma</td>\n",
       "      <td>Maior cobertura</td>\n",
       "      <td>4.953</td>\n",
       "      <td>9</td>\n",
       "      <td>100.2</td>\n",
       "      <td>68</td>\n",
       "    </tr>\n",
       "    <tr>\n",
       "      <th>4</th>\n",
       "      <td>Pós-pago</td>\n",
       "      <td>Feminino</td>\n",
       "      <td>Sofrível</td>\n",
       "      <td>Gradiente</td>\n",
       "      <td>Nenhuma</td>\n",
       "      <td>Qualidade do sinal</td>\n",
       "      <td>2.748</td>\n",
       "      <td>3</td>\n",
       "      <td>43.6</td>\n",
       "      <td>71</td>\n",
       "    </tr>\n",
       "    <tr>\n",
       "      <th>...</th>\n",
       "      <td>...</td>\n",
       "      <td>...</td>\n",
       "      <td>...</td>\n",
       "      <td>...</td>\n",
       "      <td>...</td>\n",
       "      <td>...</td>\n",
       "      <td>...</td>\n",
       "      <td>...</td>\n",
       "      <td>...</td>\n",
       "      <td>...</td>\n",
       "    </tr>\n",
       "    <tr>\n",
       "      <th>95</th>\n",
       "      <td>Pós-pago</td>\n",
       "      <td>Masculino</td>\n",
       "      <td>Sofrível</td>\n",
       "      <td>Motorola</td>\n",
       "      <td>Cumbuca</td>\n",
       "      <td>Qualidade do sinal</td>\n",
       "      <td>7.821</td>\n",
       "      <td>5</td>\n",
       "      <td>64</td>\n",
       "      <td>84</td>\n",
       "    </tr>\n",
       "    <tr>\n",
       "      <th>96</th>\n",
       "      <td>Pré-pago</td>\n",
       "      <td>Feminino</td>\n",
       "      <td>Mediana</td>\n",
       "      <td>Ericsson</td>\n",
       "      <td>Escuridão</td>\n",
       "      <td>Qualidade do sinal</td>\n",
       "      <td>2.904</td>\n",
       "      <td>5</td>\n",
       "      <td>64</td>\n",
       "      <td>76</td>\n",
       "    </tr>\n",
       "    <tr>\n",
       "      <th>97</th>\n",
       "      <td>Pré-pago</td>\n",
       "      <td>Feminino</td>\n",
       "      <td>Confiável</td>\n",
       "      <td>Ericsson</td>\n",
       "      <td>Escuridão</td>\n",
       "      <td>Maior cobertura</td>\n",
       "      <td>1.555</td>\n",
       "      <td>3</td>\n",
       "      <td>42.4</td>\n",
       "      <td>50</td>\n",
       "    </tr>\n",
       "    <tr>\n",
       "      <th>98</th>\n",
       "      <td>Pós-pago</td>\n",
       "      <td>Feminino</td>\n",
       "      <td>Mediana</td>\n",
       "      <td>Samsung</td>\n",
       "      <td>Mortinho</td>\n",
       "      <td>Tarifa menor</td>\n",
       "      <td>7.821</td>\n",
       "      <td>7</td>\n",
       "      <td>80.4</td>\n",
       "      <td>95</td>\n",
       "    </tr>\n",
       "    <tr>\n",
       "      <th>99</th>\n",
       "      <td>Pré-pago</td>\n",
       "      <td>Masculino</td>\n",
       "      <td>Excelente</td>\n",
       "      <td>Motorola</td>\n",
       "      <td>Cumbuca</td>\n",
       "      <td>Maior cobertura</td>\n",
       "      <td>3.3</td>\n",
       "      <td>1</td>\n",
       "      <td>30.52</td>\n",
       "      <td>62</td>\n",
       "    </tr>\n",
       "  </tbody>\n",
       "</table>\n",
       "<p>100 rows × 10 columns</p>\n",
       "</div>"
      ],
      "text/plain": [
       "        Tipo       Sexo    Opinião     Modelo      Outra               Razão  \\\n",
       "0   Pós-pago  Masculino    Mediana  Gradiente    Nenhuma  Qualidade do sinal   \n",
       "1   Pré-pago   Feminino    Mediana   Ericsson       Cum                  Ma    \n",
       "2   Pós-pago  Masculino   Sofrível  Gradiente    Nenhuma  Qualidade do sinal   \n",
       "3   Pré-pago   Feminino    Mediana   Ericsson    Nenhuma     Maior cobertura   \n",
       "4   Pós-pago   Feminino   Sofrível  Gradiente    Nenhuma  Qualidade do sinal   \n",
       "..       ...        ...        ...        ...        ...                 ...   \n",
       "95  Pós-pago  Masculino   Sofrível   Motorola    Cumbuca  Qualidade do sinal   \n",
       "96  Pré-pago   Feminino    Mediana   Ericsson  Escuridão  Qualidade do sinal   \n",
       "97  Pré-pago   Feminino  Confiável   Ericsson  Escuridão     Maior cobertura   \n",
       "98  Pós-pago   Feminino    Mediana    Samsung   Mortinho        Tarifa menor   \n",
       "99  Pré-pago  Masculino  Excelente   Motorola    Cumbuca     Maior cobertura   \n",
       "\n",
       "    Renda Anos  Gasto Minutos  \n",
       "0   1.074    3     39      69  \n",
       "1   1.491    4   50.2      66  \n",
       "2   2.778    7   80.8      68  \n",
       "3   4.953    9  100.2      68  \n",
       "4   2.748    3   43.6      71  \n",
       "..    ...  ...    ...     ...  \n",
       "95  7.821    5     64      84  \n",
       "96  2.904    5     64      76  \n",
       "97  1.555    3   42.4      50  \n",
       "98  7.821    7   80.4      95  \n",
       "99    3.3    1  30.52      62  \n",
       "\n",
       "[100 rows x 10 columns]"
      ]
     },
     "execution_count": 36,
     "metadata": {},
     "output_type": "execute_result"
    }
   ],
   "source": [
    "table"
   ]
  },
  {
   "cell_type": "code",
   "execution_count": 39,
   "metadata": {},
   "outputs": [
    {
     "data": {
      "text/plain": [
       "'1.074'"
      ]
     },
     "execution_count": 39,
     "metadata": {},
     "output_type": "execute_result"
    }
   ],
   "source": [
    "query = \"median of Rendas of Masculino?\"\n",
    "result_tapas = pipe_tapas(table=table, query=query)\n",
    "result_tapas['answer']"
   ]
  }
 ],
 "metadata": {
  "kernelspec": {
   "display_name": "ia_tests",
   "language": "python",
   "name": "python3"
  },
  "language_info": {
   "codemirror_mode": {
    "name": "ipython",
    "version": 3
   },
   "file_extension": ".py",
   "mimetype": "text/x-python",
   "name": "python",
   "nbconvert_exporter": "python",
   "pygments_lexer": "ipython3",
   "version": "3.10.12"
  }
 },
 "nbformat": 4,
 "nbformat_minor": 2
}
